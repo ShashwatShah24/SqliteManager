{
 "cells": [
  {
   "cell_type": "code",
   "execution_count": 68,
   "metadata": {},
   "outputs": [],
   "source": [
    "# import sqlite3  \n",
    "\n",
    "# con = sqlite3.connect(\"Account.db\")  \n",
    "# con.row_factory = sqlite3.Row  \n",
    "# cur = con.cursor()  \n",
    "# cur.execute(\"SELECT name FROM sqlite_master WHERE type='table';\")\n",
    "# row=cur.fetchall()\n"
   ]
  },
  {
   "cell_type": "code",
   "execution_count": 69,
   "metadata": {},
   "outputs": [
    {
     "data": {
      "text/plain": [
       "<sqlite3.Row at 0x1f5c1d261d0>"
      ]
     },
     "execution_count": 69,
     "metadata": {},
     "output_type": "execute_result"
    }
   ],
   "source": [
    "# row[0]"
   ]
  },
  {
   "cell_type": "code",
   "execution_count": 70,
   "metadata": {},
   "outputs": [
    {
     "name": "stdout",
     "output_type": "stream",
     "text": [
      "<sqlite3.Row object at 0x000001F5C1D261D0>\n",
      "0\n",
      "Account \n",
      "<sqlite3.Row object at 0x000001F5C1D26190>\n",
      "0\n",
      "sqlite_sequence \n"
     ]
    }
   ],
   "source": [
    "# for row in row:\n",
    "#     print(row)\n",
    "#     for i in range(len(row)):\n",
    "#         print(i)\n",
    "#         print(row[i],end=\" \")\n",
    "#     print()"
   ]
  },
  {
   "cell_type": "code",
   "execution_count": 71,
   "metadata": {},
   "outputs": [
    {
     "name": "stdout",
     "output_type": "stream",
     "text": [
      "name\n"
     ]
    }
   ],
   "source": [
    "# colnames = cur.description\n",
    "# for row in colnames:\n",
    "#     print(row[0])"
   ]
  },
  {
   "cell_type": "code",
   "execution_count": 4,
   "metadata": {},
   "outputs": [
    {
     "data": {
      "text/plain": [
       "[<sqlite3.Row at 0x298670615f0>]"
      ]
     },
     "execution_count": 4,
     "metadata": {},
     "output_type": "execute_result"
    }
   ],
   "source": [
    "cur.execute(\"select * from Table01 \") \n",
    "row=cur.fetchall() \n",
    "row"
   ]
  },
  {
   "cell_type": "code",
   "execution_count": 2,
   "metadata": {},
   "outputs": [],
   "source": [
    "import sqlite3  \n",
    "\n",
    "con = sqlite3.connect(\"Database01.db\")  \n",
    "con.row_factory = sqlite3.Row  \n",
    "cur = con.cursor()  \n",
    "cur.execute(\"SELECT name FROM sqlite_master WHERE type='table';\")\n",
    "table=cur.fetchall()\n"
   ]
  },
  {
   "cell_type": "code",
   "execution_count": 21,
   "metadata": {},
   "outputs": [
    {
     "data": {
      "text/plain": [
       "['Table01', 'sqlite_sequence', 'Table02']"
      ]
     },
     "execution_count": 21,
     "metadata": {},
     "output_type": "execute_result"
    }
   ],
   "source": [
    "tables=[]\n",
    "for Alltable in table:\n",
    "    for i in range(len(Alltable)):\n",
    "        tables.append(Alltable[i])\n",
    "tables"
   ]
  },
  {
   "cell_type": "code",
   "execution_count": 17,
   "metadata": {},
   "outputs": [],
   "source": [
    "tableLength=len(tables)"
   ]
  },
  {
   "cell_type": "code",
   "execution_count": 3,
   "metadata": {},
   "outputs": [
    {
     "data": {
      "text/plain": [
       "['id', 'Name', 'Password']"
      ]
     },
     "execution_count": 3,
     "metadata": {},
     "output_type": "execute_result"
    }
   ],
   "source": [
    "column=[]\n",
    "cur.execute(\"select * from {0}\".format(\"Table01\"))\n",
    "rows=cur.fetchall()\n",
    "colnames = cur.description\n",
    "for Allcolumns in colnames:\n",
    "    column.append(Allcolumns[0])\n",
    "column"
   ]
  },
  {
   "cell_type": "code",
   "execution_count": 4,
   "metadata": {},
   "outputs": [
    {
     "data": {
      "text/plain": [
       "3"
      ]
     },
     "execution_count": 4,
     "metadata": {},
     "output_type": "execute_result"
    }
   ],
   "source": [
    "columnlength=len(column)\n",
    "columnlength"
   ]
  },
  {
   "cell_type": "code",
   "execution_count": 5,
   "metadata": {},
   "outputs": [
    {
     "name": "stdout",
     "output_type": "stream",
     "text": [
      "1 Shah rajababu \n",
      "23 papa aao aao \n"
     ]
    }
   ],
   "source": [
    "\n",
    "for Allrow in rows:\n",
    "    for k in range(0,columnlength):\n",
    "        print(Allrow[k],end=\" \")\n",
    "    print()"
   ]
  },
  {
   "cell_type": "markdown",
   "metadata": {},
   "source": [
    "columnlength"
   ]
  },
  {
   "cell_type": "code",
   "execution_count": 14,
   "metadata": {},
   "outputs": [
    {
     "data": {
      "text/plain": [
       "0"
      ]
     },
     "execution_count": 14,
     "metadata": {},
     "output_type": "execute_result"
    }
   ],
   "source": [
    "columnlength"
   ]
  },
  {
   "cell_type": "code",
   "execution_count": 21,
   "metadata": {},
   "outputs": [
    {
     "name": "stdout",
     "output_type": "stream",
     "text": [
      "<sqlite3.Row object at 0x0000029867476570>\n"
     ]
    }
   ],
   "source": [
    "for row in rows:\n",
    "    print(row)"
   ]
  },
  {
   "cell_type": "code",
   "execution_count": 20,
   "metadata": {},
   "outputs": [
    {
     "name": "stdout",
     "output_type": "stream",
     "text": [
      "<sqlite3.Row object at 0x0000029867476570>\n"
     ]
    }
   ],
   "source": [
    "print(rows[0])"
   ]
  },
  {
   "cell_type": "code",
   "execution_count": 2,
   "metadata": {},
   "outputs": [],
   "source": [
    "import sqlite3  \n",
    "with sqlite3.connect(\"Database01.db\") as con:  \n",
    "                cur = con.cursor()  \n",
    "                cur.execute(\"INSERT into Table01 (id,Name,Password) values (?,?,?)\",(\"23\",\"papa\",\"aao aao\"))  \n",
    "                con.commit()  \n",
    "            "
   ]
  },
  {
   "cell_type": "code",
   "execution_count": 23,
   "metadata": {},
   "outputs": [
    {
     "name": "stdout",
     "output_type": "stream",
     "text": [
      "1 Shah rajababu \n",
      "23 papa aao aao \n"
     ]
    }
   ],
   "source": [
    "\n",
    "for Allrow in rows:\n",
    "    for k in range(0,columnlength):\n",
    "        print(Allrow[k],end=\" \")\n",
    "    print()"
   ]
  },
  {
   "cell_type": "code",
   "execution_count": 24,
   "metadata": {},
   "outputs": [],
   "source": [
    "Details=[]\n",
    "CompleteDet=[]\n",
    "for Allrow in rows:\n",
    "    Details=[]\n",
    "    for k in range(0,columnlength):\n",
    "        Details.append(Allrow[k])\n",
    "    CompleteDet.append(Details)"
   ]
  },
  {
   "cell_type": "code",
   "execution_count": 25,
   "metadata": {},
   "outputs": [
    {
     "data": {
      "text/plain": [
       "[[1, 'Shah', 'rajababu'], [23, 'papa', 'aao aao']]"
      ]
     },
     "execution_count": 25,
     "metadata": {},
     "output_type": "execute_result"
    }
   ],
   "source": [
    "CompleteDet\n"
   ]
  },
  {
   "cell_type": "code",
   "execution_count": null,
   "metadata": {},
   "outputs": [],
   "source": []
  }
 ],
 "metadata": {
  "kernelspec": {
   "display_name": "Python 3",
   "language": "python",
   "name": "python3"
  },
  "language_info": {
   "codemirror_mode": {
    "name": "ipython",
    "version": 3
   },
   "file_extension": ".py",
   "mimetype": "text/x-python",
   "name": "python",
   "nbconvert_exporter": "python",
   "pygments_lexer": "ipython3",
   "version": "3.7.3"
  }
 },
 "nbformat": 4,
 "nbformat_minor": 2
}
